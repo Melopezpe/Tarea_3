{
 "cells": [
  {
   "cell_type": "markdown",
   "id": "64ad0dc3-f912-4c5f-9202-eb718cf05eef",
   "metadata": {},
   "source": [
    "**Desarrollo de la Regresión Lineal**"
   ]
  },
  {
   "cell_type": "markdown",
   "id": "0e1c8903-7dda-4f4c-ac40-da271747624b",
   "metadata": {},
   "source": [
    "**Pasos de la Actividad**"
   ]
  },
  {
   "cell_type": "markdown",
   "id": "2f80678f-92ce-4f34-aff6-63c3a55e2f14",
   "metadata": {},
   "source": [
    "1. Realizar un análisis exploratorio de los datos para identificar relaciones entre variables, valores atípicos, tendencias, etc.\n",
    "2. Preprocesar los datos limpiándolos, tratando valores faltantes y transformándolos según sea necesario\n",
    "3. Seleccionar las características más relevantes para entrenar el modelo utilizando selección de características\n",
    "4. Dividir el dataset en Train y Test para evaluar correctamente el modelo\n",
    "5. Entrenar el modelo configurando los diferentes hiperparámetros\n",
    "6. Evaluar el desempeño del modelo en el conjunto de Test con métricas como precisión, recall, F1-score, etc\n",
    "7. Realizar las diferentes gráficas que permitan visualizar los resultados del modelo.\n",
    "8. Interpretar, analizar y documentar los resultados obtenidos\n",
    "9. Crear una cuenta en GitHub y cargar los códigos de los modelos diseñados https://github.com/"
   ]
  },
  {
   "cell_type": "markdown",
   "id": "aad2f43c-6baf-4a71-8615-f6b33ecdf396",
   "metadata": {},
   "source": [
    "**1. Realizar un análisis exploratorio de los datos para identificar relaciones entre variables, valores atípicos, tendencias, etc.**"
   ]
  },
  {
   "cell_type": "code",
   "execution_count": 69,
   "id": "0462bb69-de53-4856-a466-47e0dae69108",
   "metadata": {},
   "outputs": [],
   "source": [
    "import pandas as pd\n",
    "from sklearn.model_selection import train_test_split\n",
    "from sklearn.linear_model import LinearRegression\n",
    "from sklearn.metrics import mean_squared_error\n",
    "from sklearn.preprocessing import LabelEncoder\n",
    "from sklearn.preprocessing import StandardScaler\n",
    "from sklearn.exceptions import NotFittedError\n",
    "import seaborn as sns\n",
    "from sklearn.preprocessing import OneHotEncoder\n",
    "from sklearn.ensemble import RandomForestRegressor\n",
    "from sklearn.metrics import classification_report\n",
    "from sklearn.metrics import mean_squared_error, r2_score\n",
    "import matplotlib.pyplot as plt "
   ]
  },
  {
   "cell_type": "code",
   "execution_count": 70,
   "id": "ebdb6fc9-5aa6-4b89-9206-8f80c5095d6f",
   "metadata": {},
   "outputs": [],
   "source": [
    "# cargamos el dataset\n",
    "Data = pd.read_csv(\"Car details v3.csv\")"
   ]
  },
  {
   "cell_type": "code",
   "execution_count": 71,
   "id": "59526724-5080-45e8-94c9-80fa73b3c5af",
   "metadata": {},
   "outputs": [
    {
     "data": {
      "text/html": [
       "<div>\n",
       "<style scoped>\n",
       "    .dataframe tbody tr th:only-of-type {\n",
       "        vertical-align: middle;\n",
       "    }\n",
       "\n",
       "    .dataframe tbody tr th {\n",
       "        vertical-align: top;\n",
       "    }\n",
       "\n",
       "    .dataframe thead th {\n",
       "        text-align: right;\n",
       "    }\n",
       "</style>\n",
       "<table border=\"1\" class=\"dataframe\">\n",
       "  <thead>\n",
       "    <tr style=\"text-align: right;\">\n",
       "      <th></th>\n",
       "      <th>name</th>\n",
       "      <th>year</th>\n",
       "      <th>selling_price</th>\n",
       "      <th>km_driven</th>\n",
       "      <th>fuel</th>\n",
       "      <th>seller_type</th>\n",
       "      <th>transmission</th>\n",
       "      <th>owner</th>\n",
       "      <th>mileage</th>\n",
       "      <th>engine</th>\n",
       "      <th>max_power</th>\n",
       "      <th>torque</th>\n",
       "      <th>seats</th>\n",
       "    </tr>\n",
       "  </thead>\n",
       "  <tbody>\n",
       "    <tr>\n",
       "      <th>0</th>\n",
       "      <td>Maruti Swift Dzire VDI</td>\n",
       "      <td>2014</td>\n",
       "      <td>450000</td>\n",
       "      <td>145500</td>\n",
       "      <td>Diesel</td>\n",
       "      <td>Individual</td>\n",
       "      <td>Manual</td>\n",
       "      <td>First Owner</td>\n",
       "      <td>23.4 kmpl</td>\n",
       "      <td>1248 CC</td>\n",
       "      <td>74 bhp</td>\n",
       "      <td>190Nm@ 2000rpm</td>\n",
       "      <td>5.0</td>\n",
       "    </tr>\n",
       "    <tr>\n",
       "      <th>1</th>\n",
       "      <td>Skoda Rapid 1.5 TDI Ambition</td>\n",
       "      <td>2014</td>\n",
       "      <td>370000</td>\n",
       "      <td>120000</td>\n",
       "      <td>Diesel</td>\n",
       "      <td>Individual</td>\n",
       "      <td>Manual</td>\n",
       "      <td>Second Owner</td>\n",
       "      <td>21.14 kmpl</td>\n",
       "      <td>1498 CC</td>\n",
       "      <td>103.52 bhp</td>\n",
       "      <td>250Nm@ 1500-2500rpm</td>\n",
       "      <td>5.0</td>\n",
       "    </tr>\n",
       "    <tr>\n",
       "      <th>2</th>\n",
       "      <td>Honda City 2017-2020 EXi</td>\n",
       "      <td>2006</td>\n",
       "      <td>158000</td>\n",
       "      <td>140000</td>\n",
       "      <td>Petrol</td>\n",
       "      <td>Individual</td>\n",
       "      <td>Manual</td>\n",
       "      <td>Third Owner</td>\n",
       "      <td>17.7 kmpl</td>\n",
       "      <td>1497 CC</td>\n",
       "      <td>78 bhp</td>\n",
       "      <td>12.7@ 2,700(kgm@ rpm)</td>\n",
       "      <td>5.0</td>\n",
       "    </tr>\n",
       "    <tr>\n",
       "      <th>3</th>\n",
       "      <td>Hyundai i20 Sportz Diesel</td>\n",
       "      <td>2010</td>\n",
       "      <td>225000</td>\n",
       "      <td>127000</td>\n",
       "      <td>Diesel</td>\n",
       "      <td>Individual</td>\n",
       "      <td>Manual</td>\n",
       "      <td>First Owner</td>\n",
       "      <td>23.0 kmpl</td>\n",
       "      <td>1396 CC</td>\n",
       "      <td>90 bhp</td>\n",
       "      <td>22.4 kgm at 1750-2750rpm</td>\n",
       "      <td>5.0</td>\n",
       "    </tr>\n",
       "    <tr>\n",
       "      <th>4</th>\n",
       "      <td>Maruti Swift VXI BSIII</td>\n",
       "      <td>2007</td>\n",
       "      <td>130000</td>\n",
       "      <td>120000</td>\n",
       "      <td>Petrol</td>\n",
       "      <td>Individual</td>\n",
       "      <td>Manual</td>\n",
       "      <td>First Owner</td>\n",
       "      <td>16.1 kmpl</td>\n",
       "      <td>1298 CC</td>\n",
       "      <td>88.2 bhp</td>\n",
       "      <td>11.5@ 4,500(kgm@ rpm)</td>\n",
       "      <td>5.0</td>\n",
       "    </tr>\n",
       "    <tr>\n",
       "      <th>5</th>\n",
       "      <td>Hyundai Xcent 1.2 VTVT E Plus</td>\n",
       "      <td>2017</td>\n",
       "      <td>440000</td>\n",
       "      <td>45000</td>\n",
       "      <td>Petrol</td>\n",
       "      <td>Individual</td>\n",
       "      <td>Manual</td>\n",
       "      <td>First Owner</td>\n",
       "      <td>20.14 kmpl</td>\n",
       "      <td>1197 CC</td>\n",
       "      <td>81.86 bhp</td>\n",
       "      <td>113.75nm@ 4000rpm</td>\n",
       "      <td>5.0</td>\n",
       "    </tr>\n",
       "    <tr>\n",
       "      <th>6</th>\n",
       "      <td>Maruti Wagon R LXI DUO BSIII</td>\n",
       "      <td>2007</td>\n",
       "      <td>96000</td>\n",
       "      <td>175000</td>\n",
       "      <td>LPG</td>\n",
       "      <td>Individual</td>\n",
       "      <td>Manual</td>\n",
       "      <td>First Owner</td>\n",
       "      <td>17.3 km/kg</td>\n",
       "      <td>1061 CC</td>\n",
       "      <td>57.5 bhp</td>\n",
       "      <td>7.8@ 4,500(kgm@ rpm)</td>\n",
       "      <td>5.0</td>\n",
       "    </tr>\n",
       "    <tr>\n",
       "      <th>7</th>\n",
       "      <td>Maruti 800 DX BSII</td>\n",
       "      <td>2001</td>\n",
       "      <td>45000</td>\n",
       "      <td>5000</td>\n",
       "      <td>Petrol</td>\n",
       "      <td>Individual</td>\n",
       "      <td>Manual</td>\n",
       "      <td>Second Owner</td>\n",
       "      <td>16.1 kmpl</td>\n",
       "      <td>796 CC</td>\n",
       "      <td>37 bhp</td>\n",
       "      <td>59Nm@ 2500rpm</td>\n",
       "      <td>4.0</td>\n",
       "    </tr>\n",
       "  </tbody>\n",
       "</table>\n",
       "</div>"
      ],
      "text/plain": [
       "                            name  year  selling_price  km_driven    fuel  \\\n",
       "0         Maruti Swift Dzire VDI  2014         450000     145500  Diesel   \n",
       "1   Skoda Rapid 1.5 TDI Ambition  2014         370000     120000  Diesel   \n",
       "2       Honda City 2017-2020 EXi  2006         158000     140000  Petrol   \n",
       "3      Hyundai i20 Sportz Diesel  2010         225000     127000  Diesel   \n",
       "4         Maruti Swift VXI BSIII  2007         130000     120000  Petrol   \n",
       "5  Hyundai Xcent 1.2 VTVT E Plus  2017         440000      45000  Petrol   \n",
       "6   Maruti Wagon R LXI DUO BSIII  2007          96000     175000     LPG   \n",
       "7             Maruti 800 DX BSII  2001          45000       5000  Petrol   \n",
       "\n",
       "  seller_type transmission         owner     mileage   engine   max_power  \\\n",
       "0  Individual       Manual   First Owner   23.4 kmpl  1248 CC      74 bhp   \n",
       "1  Individual       Manual  Second Owner  21.14 kmpl  1498 CC  103.52 bhp   \n",
       "2  Individual       Manual   Third Owner   17.7 kmpl  1497 CC      78 bhp   \n",
       "3  Individual       Manual   First Owner   23.0 kmpl  1396 CC      90 bhp   \n",
       "4  Individual       Manual   First Owner   16.1 kmpl  1298 CC    88.2 bhp   \n",
       "5  Individual       Manual   First Owner  20.14 kmpl  1197 CC   81.86 bhp   \n",
       "6  Individual       Manual   First Owner  17.3 km/kg  1061 CC    57.5 bhp   \n",
       "7  Individual       Manual  Second Owner   16.1 kmpl   796 CC      37 bhp   \n",
       "\n",
       "                     torque  seats  \n",
       "0            190Nm@ 2000rpm    5.0  \n",
       "1       250Nm@ 1500-2500rpm    5.0  \n",
       "2     12.7@ 2,700(kgm@ rpm)    5.0  \n",
       "3  22.4 kgm at 1750-2750rpm    5.0  \n",
       "4     11.5@ 4,500(kgm@ rpm)    5.0  \n",
       "5         113.75nm@ 4000rpm    5.0  \n",
       "6      7.8@ 4,500(kgm@ rpm)    5.0  \n",
       "7             59Nm@ 2500rpm    4.0  "
      ]
     },
     "execution_count": 71,
     "metadata": {},
     "output_type": "execute_result"
    }
   ],
   "source": [
    "# mostramos las 8 primeras filas\n",
    "Data.head(8)"
   ]
  },
  {
   "cell_type": "markdown",
   "id": "34849900-dee0-41e0-8a40-6f4c66345ff2",
   "metadata": {},
   "source": [
    "Identificamos los datos faltantes y atípicos en las columnas más significativas que contienen solo números"
   ]
  },
  {
   "cell_type": "code",
   "execution_count": 72,
   "id": "11cc218f-7dad-4a10-b3e9-780e11f5c053",
   "metadata": {},
   "outputs": [
    {
     "data": {
      "text/plain": [
       "Text(0.5, 1.0, 'Identificación de Datos Faltantes y Atípicos en año')"
      ]
     },
     "execution_count": 72,
     "metadata": {},
     "output_type": "execute_result"
    },
    {
     "data": {
      "image/png": "[encoded data removed]",
      "text/plain": [
       "<Figure size 600x300 with 1 Axes>"
      ]
     },
     "metadata": {},
     "output_type": "display_data"
    }
   ],
   "source": [
    "#Identificación de Datos Faltantes y Atípicos en año \n",
    "\n",
    "plt.figure(figsize=(6, 3))\n",
    "sns.boxplot(x=Data['year'])\n",
    "plt.title('Identificación de Datos Faltantes y Atípicos en año', fontsize=10 )"
   ]
  },
  {
   "cell_type": "code",
   "execution_count": 73,
   "id": "7d19660c-cb88-4c0a-838c-ae5aae156569",
   "metadata": {},
   "outputs": [
    {
     "data": {
      "text/plain": [
       "Text(0.5, 1.0, 'Identificación de Datos Faltantes y Atípicos en asientos')"
      ]
     },
     "execution_count": 73,
     "metadata": {},
     "output_type": "execute_result"
    },
    {
     "data": {
      "image/png": "[encoded data removed]",
      "text/plain": [
       "<Figure size 600x300 with 1 Axes>"
      ]
     },
     "metadata": {},
     "output_type": "display_data"
    }
   ],
   "source": [
    "#Identificación de Datos Faltantes y Atípicos\n",
    "\n",
    "plt.figure(figsize=(6, 3))\n",
    "sns.boxplot(x=Data['seats'])\n",
    "plt.title('Identificación de Datos Faltantes y Atípicos en asientos', fontsize=10 )"
   ]
  },
  {
   "cell_type": "code",
   "execution_count": 74,
   "id": "d1fb803e-c2d3-4ff9-9e6d-e098379d6d22",
   "metadata": {},
   "outputs": [
    {
     "name": "stdout",
     "output_type": "stream",
     "text": [
      "El total de datos atípicos en asientos es: 100\n"
     ]
    }
   ],
   "source": [
    "#Conteo de Datos Atípicos \n",
    "\n",
    "nivel_minimo=2\n",
    "nivel_maximo=8\n",
    "Total_Atipicos=((Data['seats']<nivel_minimo)|(Data['seats']>nivel_maximo)).sum()\n",
    "print(\"El total de datos atípicos en asientos es: {}\".format(Total_Atipicos))"
   ]
  },
  {
   "cell_type": "code",
   "execution_count": 75,
   "id": "0229576b-65b1-49df-8c16-5092150042c5",
   "metadata": {},
   "outputs": [],
   "source": [
    "# Filtra Datos Atípicos\n",
    "\n",
    "Data=Data[(Data['seats']<nivel_maximo)&(Data['seats']>nivel_minimo)]"
   ]
  },
  {
   "cell_type": "code",
   "execution_count": 76,
   "id": "5e38ff3f-01f8-44cd-8182-84362d42fa82",
   "metadata": {},
   "outputs": [
    {
     "name": "stdout",
     "output_type": "stream",
     "text": [
      "El total de datos atípicos en asientos es: 0\n"
     ]
    }
   ],
   "source": [
    "# Validar si se removieron los datos atípicos\n",
    "Total_Atipicos=((Data['seats']<nivel_minimo)|(Data['seats']>nivel_maximo)).sum()\n",
    "print(\"El total de datos atípicos en asientos es: {}\".format(Total_Atipicos))"
   ]
  },
  {
   "cell_type": "markdown",
   "id": "1e89fc96-14b7-48da-ace4-f798dd16b1e1",
   "metadata": {},
   "source": [
    "**2. Preprocesar los datos limpiándolos, tratando valores faltantes y transformándolos según sea necesario**"
   ]
  },
  {
   "cell_type": "code",
   "execution_count": 77,
   "id": "9b2cbe9d-8e32-4619-a421-682e0b882fdc",
   "metadata": {},
   "outputs": [],
   "source": [
    "# Preprocesar los datos (se eliminaran las filas con valores faltantes y se convertiran las variables categóricas en variables numéricas)\n",
    "Data.dropna(inplace=True)\n",
    "\n",
    "labelencoder = LabelEncoder()\n",
    "Data['fuel'] = labelencoder.fit_transform(Data['fuel'])\n",
    "Data['seller_type'] = labelencoder.fit_transform(Data['seller_type'])\n",
    "Data['transmission'] = labelencoder.fit_transform(Data['transmission'])"
   ]
  },
  {
   "cell_type": "code",
   "execution_count": 78,
   "id": "bdd71467-214f-450f-b11d-8999d7143dc7",
   "metadata": {},
   "outputs": [
    {
     "name": "stdout",
     "output_type": "stream",
     "text": [
      "<class 'pandas.core.frame.DataFrame'>\n",
      "Index: 7569 entries, 0 to 8127\n",
      "Data columns (total 13 columns):\n",
      " #   Column         Non-Null Count  Dtype  \n",
      "---  ------         --------------  -----  \n",
      " 0   name           7569 non-null   object \n",
      " 1   year           7569 non-null   int64  \n",
      " 2   selling_price  7569 non-null   int64  \n",
      " 3   km_driven      7569 non-null   int64  \n",
      " 4   fuel           7569 non-null   int32  \n",
      " 5   seller_type    7569 non-null   int32  \n",
      " 6   transmission   7569 non-null   int32  \n",
      " 7   owner          7569 non-null   object \n",
      " 8   mileage        7569 non-null   object \n",
      " 9   engine         7569 non-null   object \n",
      " 10  max_power      7569 non-null   object \n",
      " 11  torque         7569 non-null   object \n",
      " 12  seats          7569 non-null   float64\n",
      "dtypes: float64(1), int32(3), int64(3), object(6)\n",
      "memory usage: 739.2+ KB\n"
     ]
    }
   ],
   "source": [
    "Data.info()"
   ]
  },
  {
   "cell_type": "code",
   "execution_count": 79,
   "id": "05908675-a2db-42bd-8775-35802b171eee",
   "metadata": {},
   "outputs": [
    {
     "data": {
      "text/plain": [
       "selling_price\n",
       "300000    213\n",
       "350000    193\n",
       "600000    193\n",
       "550000    187\n",
       "450000    182\n",
       "         ... \n",
       "94500       1\n",
       "408000      1\n",
       "654000      1\n",
       "486000      1\n",
       "746000      1\n",
       "Name: count, Length: 652, dtype: int64"
      ]
     },
     "execution_count": 79,
     "metadata": {},
     "output_type": "execute_result"
    }
   ],
   "source": [
    "# Total de automoviles con precio, muy significativos\n",
    "\n",
    "Data['selling_price'].value_counts()"
   ]
  },
  {
   "cell_type": "markdown",
   "id": "0a98bbf2-5361-45f3-8db9-e8fbd9fd3140",
   "metadata": {},
   "source": [
    "**3.Seleccionar las características más relevantes para entrenar el modelo utilizando selección de características**"
   ]
  },
  {
   "cell_type": "markdown",
   "id": "78f62f8c-df71-4460-9a29-b4db51722b49",
   "metadata": {},
   "source": [
    "Característica de interes:\n",
    "selling_price\n",
    "\n",
    "Predecir el precio del automóvil en función de sus atributos."
   ]
  },
  {
   "cell_type": "code",
   "execution_count": 80,
   "id": "6512b29f-8291-4403-b8a2-fe919bbb0c68",
   "metadata": {},
   "outputs": [
    {
     "data": {
      "text/html": [
       "<div>\n",
       "<style scoped>\n",
       "    .dataframe tbody tr th:only-of-type {\n",
       "        vertical-align: middle;\n",
       "    }\n",
       "\n",
       "    .dataframe tbody tr th {\n",
       "        vertical-align: top;\n",
       "    }\n",
       "\n",
       "    .dataframe thead th {\n",
       "        text-align: right;\n",
       "    }\n",
       "</style>\n",
       "<table border=\"1\" class=\"dataframe\">\n",
       "  <thead>\n",
       "    <tr style=\"text-align: right;\">\n",
       "      <th></th>\n",
       "      <th>selling_price</th>\n",
       "    </tr>\n",
       "  </thead>\n",
       "  <tbody>\n",
       "    <tr>\n",
       "      <th>0</th>\n",
       "      <td>450000</td>\n",
       "    </tr>\n",
       "    <tr>\n",
       "      <th>1</th>\n",
       "      <td>370000</td>\n",
       "    </tr>\n",
       "    <tr>\n",
       "      <th>2</th>\n",
       "      <td>158000</td>\n",
       "    </tr>\n",
       "    <tr>\n",
       "      <th>3</th>\n",
       "      <td>225000</td>\n",
       "    </tr>\n",
       "    <tr>\n",
       "      <th>4</th>\n",
       "      <td>130000</td>\n",
       "    </tr>\n",
       "  </tbody>\n",
       "</table>\n",
       "</div>"
      ],
      "text/plain": [
       "   selling_price\n",
       "0         450000\n",
       "1         370000\n",
       "2         158000\n",
       "3         225000\n",
       "4         130000"
      ]
     },
     "execution_count": 80,
     "metadata": {},
     "output_type": "execute_result"
    }
   ],
   "source": [
    "#consultamos las 5 primeras filas en precio venta\n",
    "Data[['selling_price']].head(5)"
   ]
  },
  {
   "cell_type": "code",
   "execution_count": 81,
   "id": "6627ab6d-6a2c-40c0-8d90-fc32ab72599a",
   "metadata": {},
   "outputs": [],
   "source": [
    "# Dividir los datos en variables independientes (X) y dependiente (y)\n",
    "X = Data.drop('selling_price', axis=1)\n",
    "y = Data['selling_price']"
   ]
  },
  {
   "cell_type": "code",
   "execution_count": 82,
   "id": "84c5f45f-1c79-469b-9ea2-5bc2f066a90d",
   "metadata": {},
   "outputs": [
    {
     "name": "stdout",
     "output_type": "stream",
     "text": [
      "                              name  year  km_driven  fuel  seller_type  \\\n",
      "0           Maruti Swift Dzire VDI  2014     145500     1            1   \n",
      "1     Skoda Rapid 1.5 TDI Ambition  2014     120000     1            1   \n",
      "2         Honda City 2017-2020 EXi  2006     140000     3            1   \n",
      "3        Hyundai i20 Sportz Diesel  2010     127000     1            1   \n",
      "4           Maruti Swift VXI BSIII  2007     120000     3            1   \n",
      "...                            ...   ...        ...   ...          ...   \n",
      "8123             Hyundai i20 Magna  2013     110000     3            1   \n",
      "8124         Hyundai Verna CRDi SX  2007     119000     1            1   \n",
      "8125        Maruti Swift Dzire ZDi  2009     120000     1            1   \n",
      "8126               Tata Indigo CR4  2013      25000     1            1   \n",
      "8127               Tata Indigo CR4  2013      25000     1            1   \n",
      "\n",
      "      transmission                 owner     mileage   engine   max_power  \\\n",
      "0                1           First Owner   23.4 kmpl  1248 CC      74 bhp   \n",
      "1                1          Second Owner  21.14 kmpl  1498 CC  103.52 bhp   \n",
      "2                1           Third Owner   17.7 kmpl  1497 CC      78 bhp   \n",
      "3                1           First Owner   23.0 kmpl  1396 CC      90 bhp   \n",
      "4                1           First Owner   16.1 kmpl  1298 CC    88.2 bhp   \n",
      "...            ...                   ...         ...      ...         ...   \n",
      "8123             1           First Owner   18.5 kmpl  1197 CC   82.85 bhp   \n",
      "8124             1  Fourth & Above Owner   16.8 kmpl  1493 CC     110 bhp   \n",
      "8125             1           First Owner   19.3 kmpl  1248 CC    73.9 bhp   \n",
      "8126             1           First Owner  23.57 kmpl  1396 CC      70 bhp   \n",
      "8127             1           First Owner  23.57 kmpl  1396 CC      70 bhp   \n",
      "\n",
      "                         torque  seats  \n",
      "0                190Nm@ 2000rpm    5.0  \n",
      "1           250Nm@ 1500-2500rpm    5.0  \n",
      "2         12.7@ 2,700(kgm@ rpm)    5.0  \n",
      "3      22.4 kgm at 1750-2750rpm    5.0  \n",
      "4         11.5@ 4,500(kgm@ rpm)    5.0  \n",
      "...                         ...    ...  \n",
      "8123           113.7Nm@ 4000rpm    5.0  \n",
      "8124  24@ 1,900-2,750(kgm@ rpm)    5.0  \n",
      "8125             190Nm@ 2000rpm    5.0  \n",
      "8126        140Nm@ 1800-3000rpm    5.0  \n",
      "8127        140Nm@ 1800-3000rpm    5.0  \n",
      "\n",
      "[7569 rows x 12 columns]\n"
     ]
    }
   ],
   "source": [
    "print (X)"
   ]
  },
  {
   "cell_type": "code",
   "execution_count": 83,
   "id": "7fd75fa2-c3ea-4e9e-92d9-4fd77f60d6aa",
   "metadata": {},
   "outputs": [
    {
     "name": "stdout",
     "output_type": "stream",
     "text": [
      "0       450000\n",
      "1       370000\n",
      "2       158000\n",
      "3       225000\n",
      "4       130000\n",
      "         ...  \n",
      "8123    320000\n",
      "8124    135000\n",
      "8125    382000\n",
      "8126    290000\n",
      "8127    290000\n",
      "Name: selling_price, Length: 7569, dtype: int64\n"
     ]
    }
   ],
   "source": [
    "print (y)"
   ]
  },
  {
   "cell_type": "code",
   "execution_count": 84,
   "id": "c1db3208-31bf-4664-abe7-558d07176a69",
   "metadata": {},
   "outputs": [],
   "source": [
    "# Codificando las características categóricas en características numéricas usando One-Hot Encoding\n",
    "encoder = OneHotEncoder(handle_unknown='ignore')\n",
    "X_encoded = encoder.fit_transform(X)"
   ]
  },
  {
   "cell_type": "markdown",
   "id": "81dc9c8c-4485-4849-b3d5-46426fd73a0a",
   "metadata": {},
   "source": [
    "**4. Dividir el dataset en Train y Test para evaluar correctamente el modelo**"
   ]
  },
  {
   "cell_type": "code",
   "execution_count": 85,
   "id": "8a7adad6-875b-4e25-862f-355cfd6297c6",
   "metadata": {},
   "outputs": [],
   "source": [
    "# Dividir los datos en conjuntos de entrenamiento y prueba\n",
    "X_train, X_test, y_train, y_test = train_test_split(X_encoded, y, test_size=0.25, random_state=None)"
   ]
  },
  {
   "cell_type": "markdown",
   "id": "e8e4d6d6-0587-4f82-8ea8-8427023f084f",
   "metadata": {},
   "source": [
    "**5. Entrenar el modelo configurando los diferentes hiperparámetros**"
   ]
  },
  {
   "cell_type": "code",
   "execution_count": 86,
   "id": "d99b2c77-0398-4a03-912c-5aa49a268824",
   "metadata": {},
   "outputs": [
    {
     "data": {
      "text/html": [
       "<style>#sk-container-id-1 {color: black;background-color: white;}#sk-container-id-1 pre{padding: 0;}#sk-container-id-1 div.sk-toggleable {background-color: white;}#sk-container-id-1 label.sk-toggleable__label {cursor: pointer;display: block;width: 100%;margin-bottom: 0;padding: 0.3em;box-sizing: border-box;text-align: center;}#sk-container-id-1 label.sk-toggleable__label-arrow:before {content: \"▸\";float: left;margin-right: 0.25em;color: #696969;}#sk-container-id-1 label.sk-toggleable__label-arrow:hover:before {color: black;}#sk-container-id-1 div.sk-estimator:hover label.sk-toggleable__label-arrow:before {color: black;}#sk-container-id-1 div.sk-toggleable__content {max-height: 0;max-width: 0;overflow: hidden;text-align: left;background-color: #f0f8ff;}#sk-container-id-1 div.sk-toggleable__content pre {margin: 0.2em;color: black;border-radius: 0.25em;background-color: #f0f8ff;}#sk-container-id-1 input.sk-toggleable__control:checked~div.sk-toggleable__content {max-height: 200px;max-width: 100%;overflow: auto;}#sk-container-id-1 input.sk-toggleable__control:checked~label.sk-toggleable__label-arrow:before {content: \"▾\";}#sk-container-id-1 div.sk-estimator input.sk-toggleable__control:checked~label.sk-toggleable__label {background-color: #d4ebff;}#sk-container-id-1 div.sk-label input.sk-toggleable__control:checked~label.sk-toggleable__label {background-color: #d4ebff;}#sk-container-id-1 input.sk-hidden--visually {border: 0;clip: rect(1px 1px 1px 1px);clip: rect(1px, 1px, 1px, 1px);height: 1px;margin: -1px;overflow: hidden;padding: 0;position: absolute;width: 1px;}#sk-container-id-1 div.sk-estimator {font-family: monospace;background-color: #f0f8ff;border: 1px dotted black;border-radius: 0.25em;box-sizing: border-box;margin-bottom: 0.5em;}#sk-container-id-1 div.sk-estimator:hover {background-color: #d4ebff;}#sk-container-id-1 div.sk-parallel-item::after {content: \"\";width: 100%;border-bottom: 1px solid gray;flex-grow: 1;}#sk-container-id-1 div.sk-label:hover label.sk-toggleable__label {background-color: #d4ebff;}#sk-container-id-1 div.sk-serial::before {content: \"\";position: absolute;border-left: 1px solid gray;box-sizing: border-box;top: 0;bottom: 0;left: 50%;z-index: 0;}#sk-container-id-1 div.sk-serial {display: flex;flex-direction: column;align-items: center;background-color: white;padding-right: 0.2em;padding-left: 0.2em;position: relative;}#sk-container-id-1 div.sk-item {position: relative;z-index: 1;}#sk-container-id-1 div.sk-parallel {display: flex;align-items: stretch;justify-content: center;background-color: white;position: relative;}#sk-container-id-1 div.sk-item::before, #sk-container-id-1 div.sk-parallel-item::before {content: \"\";position: absolute;border-left: 1px solid gray;box-sizing: border-box;top: 0;bottom: 0;left: 50%;z-index: -1;}#sk-container-id-1 div.sk-parallel-item {display: flex;flex-direction: column;z-index: 1;position: relative;background-color: white;}#sk-container-id-1 div.sk-parallel-item:first-child::after {align-self: flex-end;width: 50%;}#sk-container-id-1 div.sk-parallel-item:last-child::after {align-self: flex-start;width: 50%;}#sk-container-id-1 div.sk-parallel-item:only-child::after {width: 0;}#sk-container-id-1 div.sk-dashed-wrapped {border: 1px dashed gray;margin: 0 0.4em 0.5em 0.4em;box-sizing: border-box;padding-bottom: 0.4em;background-color: white;}#sk-container-id-1 div.sk-label label {font-family: monospace;font-weight: bold;display: inline-block;line-height: 1.2em;}#sk-container-id-1 div.sk-label-container {text-align: center;}#sk-container-id-1 div.sk-container {/* jupyter's `normalize.less` sets `[hidden] { display: none; }` but bootstrap.min.css set `[hidden] { display: none !important; }` so we also need the `!important` here to be able to override the default hidden behavior on the sphinx rendered scikit-learn.org. See: https://github.com/scikit-learn/scikit-learn/issues/21755 */display: inline-block !important;position: relative;}#sk-container-id-1 div.sk-text-repr-fallback {display: none;}</style><div id=\"sk-container-id-1\" class=\"sk-top-container\"><div class=\"sk-text-repr-fallback\"><pre>LinearRegression()</pre><b>In a Jupyter environment, please rerun this cell to show the HTML representation or trust the notebook. <br />On GitHub, the HTML representation is unable to render, please try loading this page with nbviewer.org.</b></div><div class=\"sk-container\" hidden><div class=\"sk-item\"><div class=\"sk-estimator sk-toggleable\"><input class=\"sk-toggleable__control sk-hidden--visually\" id=\"sk-estimator-id-1\" type=\"checkbox\" checked><label for=\"sk-estimator-id-1\" class=\"sk-toggleable__label sk-toggleable__label-arrow\">LinearRegression</label><div class=\"sk-toggleable__content\"><pre>LinearRegression()</pre></div></div></div></div></div>"
      ],
      "text/plain": [
       "LinearRegression()"
      ]
     },
     "execution_count": 86,
     "metadata": {},
     "output_type": "execute_result"
    }
   ],
   "source": [
    "# Entrenar el modelo de regresión lineal\n",
    "model = LinearRegression()\n",
    "model.fit(X_train, y_train)"
   ]
  },
  {
   "cell_type": "code",
   "execution_count": 87,
   "id": "81163da2-960a-4231-b317-0163f1664da7",
   "metadata": {},
   "outputs": [],
   "source": [
    "# Realizar predicciones sobre el conjunto de prueba\n",
    "y_pred = model.predict(X_test)"
   ]
  },
  {
   "cell_type": "code",
   "execution_count": 88,
   "id": "81c608c8-f212-427d-8754-faab5dc1d6b9",
   "metadata": {},
   "outputs": [
    {
     "name": "stdout",
     "output_type": "stream",
     "text": [
      "[979346.60085693 794645.70398668 682421.40252585 ... 674367.86291133\n",
      " 104841.63820202 307059.24578351]\n"
     ]
    }
   ],
   "source": [
    "print (y_pred)"
   ]
  },
  {
   "cell_type": "markdown",
   "id": "48ee3306-df1a-4dce-b12c-d43cfec30f91",
   "metadata": {},
   "source": [
    "**6. Evaluar el desempeño del modelo en el conjunto de Test con métricas como precisión, recall, F1-score, etc**"
   ]
  },
  {
   "cell_type": "code",
   "execution_count": 90,
   "id": "b124e6b2-ef08-4b30-9733-0e28c1e2a299",
   "metadata": {},
   "outputs": [
    {
     "name": "stdout",
     "output_type": "stream",
     "text": [
      "(7569,)\n",
      "(1893,)\n"
     ]
    }
   ],
   "source": [
    "# No se puede usar: print(classification_report(y,y_pred))\n",
    "# (y) y (y_pred) no tienen la misma longitud\n",
    "print(y.shape)\n",
    "print(y_pred.shape)"
   ]
  },
  {
   "cell_type": "code",
   "execution_count": 91,
   "id": "397a6f50-a660-4c0d-9a79-241d83fd714d",
   "metadata": {},
   "outputs": [
    {
     "name": "stdout",
     "output_type": "stream",
     "text": [
      "El error cuadrático medio del modelo es: 63217740790.743614\n"
     ]
    }
   ],
   "source": [
    "# Calculo del el error cuadrático medio\n",
    "mse = mean_squared_error(y_test, y_pred)\n",
    "print(f'El error cuadrático medio del modelo es: {mse}')\n",
    "# El error cuadrático medio (MSE) mide la diferencia entre los valores predichos y los valores reales en términos del cuadrado de la diferencia. \n",
    "# Cuanto más bajo sea el valor del MSE, mejor será el desempeño del modelo de regresión."
   ]
  },
  {
   "cell_type": "code",
   "execution_count": 92,
   "id": "22a7fdb7-9418-42fd-bc2b-9d8f0d9b3abb",
   "metadata": {},
   "outputs": [
    {
     "name": "stdout",
     "output_type": "stream",
     "text": [
      "Coeficiente de determinación (R²): 0.9076941890083497\n"
     ]
    }
   ],
   "source": [
    "# Calculo del coeficiente de determinación (R²)\n",
    "r2 = r2_score(y_test, y_pred)\n",
    "print(f'Coeficiente de determinación (R²): {r2}')\n",
    "# El coeficiente de determinación (R²) mide la proporción de la variabilidad de los datos que puede explicarse por el modelo de regresión.\n",
    "# El coeficiente de determinación varía entre 0 y 1, donde un valor de 1 indica que el modelo explica perfectamente la variabilidad de los datos."
   ]
  },
  {
   "cell_type": "markdown",
   "id": "104ebcf7-167c-4e5b-9c7c-df80fdec6ca5",
   "metadata": {},
   "source": [
    "**7. Realizar las diferentes gráficas que permitan visualizar los resultados del modelo**"
   ]
  },
  {
   "cell_type": "code",
   "execution_count": 95,
   "id": "26e5046f-a8db-4b90-8256-2d815f652234",
   "metadata": {},
   "outputs": [
    {
     "data": {
      "text/plain": [
       "Text(0, 0.5, 'y_pred')"
      ]
     },
     "execution_count": 95,
     "metadata": {},
     "output_type": "execute_result"
    },
    {
     "data": {
      "image/png": "[encoded data removed]",
      "text/plain": [
       "<Figure size 640x480 with 1 Axes>"
      ]
     },
     "metadata": {},
     "output_type": "display_data"
    }
   ],
   "source": [
    "# Grafica que permitan visualizar los resultados del modelo\n",
    "# Trazar y_test and y_pred para comprender la propagación\n",
    "fig = plt.figure()\n",
    "plt.scatter(y_test,y_pred)\n",
    "fig.suptitle('y_test vs y_pred', fontsize=20)              \n",
    "plt.xlabel('y_test', fontsize=18)                          \n",
    "plt.ylabel('y_pred', fontsize=16)  "
   ]
  },
  {
   "cell_type": "markdown",
   "id": "d31cccf3-39c9-4d9b-ae93-ce80da0babf4",
   "metadata": {},
   "source": [
    "**8.Interpretar, analizar y documentar los resultados obtenidos**"
   ]
  },
  {
   "cell_type": "markdown",
   "id": "f127a9bc-4e59-4780-b1f6-2f9155740a50",
   "metadata": {},
   "source": [
    "Del diagrama de dispersión podemos interpretar:\n",
    "\n",
    "El diagrama de dispersión muestra la dispersión del precio predicho de un automóvil en función del precio real del automóvil. La gráfica muestra que el precio predicho del automóvil es generalmente menor que el precio real del automóvil. Esto significa que el modelo tiende a subestimar el precio de los automóviles.\n",
    "\n",
    "Sin embargo, hay algunos puntos de datos que se encuentran por encima de la línea diagonal si la imaginamos trazada, lo que significa que el modelo sobreestimó el precio de algunos automóviles."
   ]
  }
 ],
 "metadata": {
  "kernelspec": {
   "display_name": "Python 3 (ipykernel)",
   "language": "python",
   "name": "python3"
  },
  "language_info": {
   "codemirror_mode": {
    "name": "ipython",
    "version": 3
   },
   "file_extension": ".py",
   "mimetype": "text/x-python",
   "name": "python",
   "nbconvert_exporter": "python",
   "pygments_lexer": "ipython3",
   "version": "3.11.7"
  }
 },
 "nbformat": 4,
 "nbformat_minor": 5
}
