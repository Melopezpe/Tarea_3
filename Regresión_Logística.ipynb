{
 "cells": [
  {
   "cell_type": "markdown",
   "id": "c4b0ecab-d2e1-46eb-85fa-eac02a725770",
   "metadata": {},
   "source": [
    "**Desarrollo de la Regresión Lineal**"
   ]
  },
  {
   "cell_type": "markdown",
   "id": "1e698d92-4359-44ec-935e-7e67a8c1dbd7",
   "metadata": {},
   "source": [
    "**Pasos de la Actividad**"
   ]
  },
  {
   "cell_type": "markdown",
   "id": "85569ec0-6aa3-4e52-aa51-06cfaf71829c",
   "metadata": {},
   "source": [
    "1. Realizar un análisis exploratorio de los datos para identificar relaciones entre variables, valores atípicos, tendencias, etc.\n",
    "2. Preprocesar los datos limpiándolos, tratando valores faltantes y transformándolos según sea necesario\n",
    "3. Seleccionar las características más relevantes para entrenar el modelo utilizando selección de características\n",
    "4. Dividir el dataset en Train y Test para evaluar correctamente el modelo\n",
    "5. Entrenar el modelo configurando los diferentes hiperparámetros\n",
    "6. Evaluar el desempeño del modelo en el conjunto de Test con métricas como precisión, recall, F1-score, etc\n",
    "7. Realizar las diferentes gráficas que permitan visualizar los resultados del modelo\n",
    "8. Interpretar, analizar y documentar los resultados obtenidos\n",
    "9. Crear una cuenta en GitHub y cargar los códigos de los modelos diseñados https://github.com/"
   ]
  },
  {
   "cell_type": "markdown",
   "id": "32358ea1-8a8a-4c6e-82eb-575e70252d79",
   "metadata": {},
   "source": [
    "**1.Realizar un análisis exploratorio de los datos para identificar relaciones entre variables, valores atípicos, tendencias, etc.**"
   ]
  },
  {
   "cell_type": "code",
   "execution_count": 4,
   "id": "bc85229e-6c0c-4cd7-aeb8-7f455ad835f5",
   "metadata": {},
   "outputs": [],
   "source": [
    "#Cargamos las librerias \n",
    "\n",
    "import pandas as pd \n",
    "import numpy as np \n",
    "import seaborn as sns \n",
    "import matplotlib.pyplot as plt \n",
    "from sklearn import metrics\n",
    "from sklearn.model_selection import train_test_split\n",
    "from sklearn.linear_model import LogisticRegression\n",
    "from sklearn.metrics import classification_report, confusion_matrix"
   ]
  },
  {
   "cell_type": "code",
   "execution_count": 12,
   "id": "b3192fda-1509-4488-b27f-c10cf29c1ec4",
   "metadata": {},
   "outputs": [],
   "source": [
    "Data = pd.read_csv('C:\\\\Users\\\\MARTINELIASLOPEZPERE\\\\Documents\\\\ANÁLISIS DE DATOS\\\\Nueva carpeta\\\\heart_cleveland_upload.csv',encoding='cp1252',)"
   ]
  },
  {
   "cell_type": "code",
   "execution_count": 13,
   "id": "acc20e69-28b0-456d-9303-e6047edf01a3",
   "metadata": {},
   "outputs": [
    {
     "data": {
      "text/html": [
       "<div>\n",
       "<style scoped>\n",
       "    .dataframe tbody tr th:only-of-type {\n",
       "        vertical-align: middle;\n",
       "    }\n",
       "\n",
       "    .dataframe tbody tr th {\n",
       "        vertical-align: top;\n",
       "    }\n",
       "\n",
       "    .dataframe thead th {\n",
       "        text-align: right;\n",
       "    }\n",
       "</style>\n",
       "<table border=\"1\" class=\"dataframe\">\n",
       "  <thead>\n",
       "    <tr style=\"text-align: right;\">\n",
       "      <th></th>\n",
       "      <th>edad</th>\n",
       "      <th>sexo</th>\n",
       "      <th>cp</th>\n",
       "      <th>trestbps</th>\n",
       "      <th>chol</th>\n",
       "      <th>fbs</th>\n",
       "      <th>restecg</th>\n",
       "      <th>thalach</th>\n",
       "      <th>exang</th>\n",
       "      <th>oldpeak</th>\n",
       "      <th>pendiente</th>\n",
       "      <th>ca</th>\n",
       "      <th>thal</th>\n",
       "      <th>condición</th>\n",
       "    </tr>\n",
       "  </thead>\n",
       "  <tbody>\n",
       "    <tr>\n",
       "      <th>0</th>\n",
       "      <td>69</td>\n",
       "      <td>1</td>\n",
       "      <td>0</td>\n",
       "      <td>160</td>\n",
       "      <td>234</td>\n",
       "      <td>1</td>\n",
       "      <td>2</td>\n",
       "      <td>131</td>\n",
       "      <td>0</td>\n",
       "      <td>0.1</td>\n",
       "      <td>1</td>\n",
       "      <td>1</td>\n",
       "      <td>0</td>\n",
       "      <td>0</td>\n",
       "    </tr>\n",
       "    <tr>\n",
       "      <th>1</th>\n",
       "      <td>69</td>\n",
       "      <td>0</td>\n",
       "      <td>0</td>\n",
       "      <td>140</td>\n",
       "      <td>239</td>\n",
       "      <td>0</td>\n",
       "      <td>0</td>\n",
       "      <td>151</td>\n",
       "      <td>0</td>\n",
       "      <td>1.8</td>\n",
       "      <td>0</td>\n",
       "      <td>2</td>\n",
       "      <td>0</td>\n",
       "      <td>0</td>\n",
       "    </tr>\n",
       "    <tr>\n",
       "      <th>2</th>\n",
       "      <td>66</td>\n",
       "      <td>0</td>\n",
       "      <td>0</td>\n",
       "      <td>150</td>\n",
       "      <td>226</td>\n",
       "      <td>0</td>\n",
       "      <td>0</td>\n",
       "      <td>114</td>\n",
       "      <td>0</td>\n",
       "      <td>2.6</td>\n",
       "      <td>2</td>\n",
       "      <td>0</td>\n",
       "      <td>0</td>\n",
       "      <td>0</td>\n",
       "    </tr>\n",
       "    <tr>\n",
       "      <th>3</th>\n",
       "      <td>65</td>\n",
       "      <td>1</td>\n",
       "      <td>0</td>\n",
       "      <td>138</td>\n",
       "      <td>282</td>\n",
       "      <td>1</td>\n",
       "      <td>2</td>\n",
       "      <td>174</td>\n",
       "      <td>0</td>\n",
       "      <td>1.4</td>\n",
       "      <td>1</td>\n",
       "      <td>1</td>\n",
       "      <td>0</td>\n",
       "      <td>1</td>\n",
       "    </tr>\n",
       "    <tr>\n",
       "      <th>4</th>\n",
       "      <td>64</td>\n",
       "      <td>1</td>\n",
       "      <td>0</td>\n",
       "      <td>110</td>\n",
       "      <td>211</td>\n",
       "      <td>0</td>\n",
       "      <td>2</td>\n",
       "      <td>144</td>\n",
       "      <td>1</td>\n",
       "      <td>1.8</td>\n",
       "      <td>1</td>\n",
       "      <td>0</td>\n",
       "      <td>0</td>\n",
       "      <td>0</td>\n",
       "    </tr>\n",
       "    <tr>\n",
       "      <th>5</th>\n",
       "      <td>64</td>\n",
       "      <td>1</td>\n",
       "      <td>0</td>\n",
       "      <td>170</td>\n",
       "      <td>227</td>\n",
       "      <td>0</td>\n",
       "      <td>2</td>\n",
       "      <td>155</td>\n",
       "      <td>0</td>\n",
       "      <td>0.6</td>\n",
       "      <td>1</td>\n",
       "      <td>0</td>\n",
       "      <td>2</td>\n",
       "      <td>0</td>\n",
       "    </tr>\n",
       "    <tr>\n",
       "      <th>6</th>\n",
       "      <td>63</td>\n",
       "      <td>1</td>\n",
       "      <td>0</td>\n",
       "      <td>145</td>\n",
       "      <td>233</td>\n",
       "      <td>1</td>\n",
       "      <td>2</td>\n",
       "      <td>150</td>\n",
       "      <td>0</td>\n",
       "      <td>2.3</td>\n",
       "      <td>2</td>\n",
       "      <td>0</td>\n",
       "      <td>1</td>\n",
       "      <td>0</td>\n",
       "    </tr>\n",
       "    <tr>\n",
       "      <th>7</th>\n",
       "      <td>61</td>\n",
       "      <td>1</td>\n",
       "      <td>0</td>\n",
       "      <td>134</td>\n",
       "      <td>234</td>\n",
       "      <td>0</td>\n",
       "      <td>0</td>\n",
       "      <td>145</td>\n",
       "      <td>0</td>\n",
       "      <td>2.6</td>\n",
       "      <td>1</td>\n",
       "      <td>2</td>\n",
       "      <td>0</td>\n",
       "      <td>1</td>\n",
       "    </tr>\n",
       "    <tr>\n",
       "      <th>8</th>\n",
       "      <td>60</td>\n",
       "      <td>0</td>\n",
       "      <td>0</td>\n",
       "      <td>150</td>\n",
       "      <td>240</td>\n",
       "      <td>0</td>\n",
       "      <td>0</td>\n",
       "      <td>171</td>\n",
       "      <td>0</td>\n",
       "      <td>0.9</td>\n",
       "      <td>0</td>\n",
       "      <td>0</td>\n",
       "      <td>0</td>\n",
       "      <td>0</td>\n",
       "    </tr>\n",
       "    <tr>\n",
       "      <th>9</th>\n",
       "      <td>59</td>\n",
       "      <td>1</td>\n",
       "      <td>0</td>\n",
       "      <td>178</td>\n",
       "      <td>270</td>\n",
       "      <td>0</td>\n",
       "      <td>2</td>\n",
       "      <td>145</td>\n",
       "      <td>0</td>\n",
       "      <td>4.2</td>\n",
       "      <td>2</td>\n",
       "      <td>0</td>\n",
       "      <td>2</td>\n",
       "      <td>0</td>\n",
       "    </tr>\n",
       "  </tbody>\n",
       "</table>\n",
       "</div>"
      ],
      "text/plain": [
       "   edad  sexo  cp  trestbps  chol  fbs  restecg  thalach  exang  oldpeak  \\\n",
       "0    69     1   0       160   234    1        2      131      0      0.1   \n",
       "1    69     0   0       140   239    0        0      151      0      1.8   \n",
       "2    66     0   0       150   226    0        0      114      0      2.6   \n",
       "3    65     1   0       138   282    1        2      174      0      1.4   \n",
       "4    64     1   0       110   211    0        2      144      1      1.8   \n",
       "5    64     1   0       170   227    0        2      155      0      0.6   \n",
       "6    63     1   0       145   233    1        2      150      0      2.3   \n",
       "7    61     1   0       134   234    0        0      145      0      2.6   \n",
       "8    60     0   0       150   240    0        0      171      0      0.9   \n",
       "9    59     1   0       178   270    0        2      145      0      4.2   \n",
       "\n",
       "   pendiente  ca  thal  condición  \n",
       "0          1   1     0          0  \n",
       "1          0   2     0          0  \n",
       "2          2   0     0          0  \n",
       "3          1   1     0          1  \n",
       "4          1   0     0          0  \n",
       "5          1   0     2          0  \n",
       "6          2   0     1          0  \n",
       "7          1   2     0          1  \n",
       "8          0   0     0          0  \n",
       "9          2   0     2          0  "
      ]
     },
     "execution_count": 13,
     "metadata": {},
     "output_type": "execute_result"
    }
   ],
   "source": [
    "# Realizamos lectura de los Datos para el análisis exploratorio\n",
    "\n",
    "Data.head(10)"
   ]
  },
  {
   "cell_type": "code",
   "execution_count": 14,
   "id": "7b77bba5-bcda-4999-b17d-6e1143ff9d71",
   "metadata": {},
   "outputs": [
    {
     "data": {
      "text/html": [
       "<div>\n",
       "<style scoped>\n",
       "    .dataframe tbody tr th:only-of-type {\n",
       "        vertical-align: middle;\n",
       "    }\n",
       "\n",
       "    .dataframe tbody tr th {\n",
       "        vertical-align: top;\n",
       "    }\n",
       "\n",
       "    .dataframe thead th {\n",
       "        text-align: right;\n",
       "    }\n",
       "</style>\n",
       "<table border=\"1\" class=\"dataframe\">\n",
       "  <thead>\n",
       "    <tr style=\"text-align: right;\">\n",
       "      <th></th>\n",
       "      <th>edad</th>\n",
       "      <th>sexo</th>\n",
       "      <th>cp</th>\n",
       "      <th>trestbps</th>\n",
       "      <th>chol</th>\n",
       "      <th>fbs</th>\n",
       "      <th>restecg</th>\n",
       "      <th>thalach</th>\n",
       "      <th>exang</th>\n",
       "      <th>oldpeak</th>\n",
       "      <th>pendiente</th>\n",
       "      <th>ca</th>\n",
       "      <th>thal</th>\n",
       "      <th>condición</th>\n",
       "    </tr>\n",
       "  </thead>\n",
       "  <tbody>\n",
       "    <tr>\n",
       "      <th>count</th>\n",
       "      <td>297.000000</td>\n",
       "      <td>297.000000</td>\n",
       "      <td>297.000000</td>\n",
       "      <td>297.000000</td>\n",
       "      <td>297.000000</td>\n",
       "      <td>297.000000</td>\n",
       "      <td>297.000000</td>\n",
       "      <td>297.000000</td>\n",
       "      <td>297.000000</td>\n",
       "      <td>297.000000</td>\n",
       "      <td>297.000000</td>\n",
       "      <td>297.000000</td>\n",
       "      <td>297.000000</td>\n",
       "      <td>297.000000</td>\n",
       "    </tr>\n",
       "    <tr>\n",
       "      <th>mean</th>\n",
       "      <td>54.542088</td>\n",
       "      <td>0.676768</td>\n",
       "      <td>2.158249</td>\n",
       "      <td>131.693603</td>\n",
       "      <td>247.350168</td>\n",
       "      <td>0.144781</td>\n",
       "      <td>0.996633</td>\n",
       "      <td>149.599327</td>\n",
       "      <td>0.326599</td>\n",
       "      <td>1.055556</td>\n",
       "      <td>0.602694</td>\n",
       "      <td>0.676768</td>\n",
       "      <td>0.835017</td>\n",
       "      <td>0.461279</td>\n",
       "    </tr>\n",
       "    <tr>\n",
       "      <th>std</th>\n",
       "      <td>9.049736</td>\n",
       "      <td>0.468500</td>\n",
       "      <td>0.964859</td>\n",
       "      <td>17.762806</td>\n",
       "      <td>51.997583</td>\n",
       "      <td>0.352474</td>\n",
       "      <td>0.994914</td>\n",
       "      <td>22.941562</td>\n",
       "      <td>0.469761</td>\n",
       "      <td>1.166123</td>\n",
       "      <td>0.618187</td>\n",
       "      <td>0.938965</td>\n",
       "      <td>0.956690</td>\n",
       "      <td>0.499340</td>\n",
       "    </tr>\n",
       "    <tr>\n",
       "      <th>min</th>\n",
       "      <td>29.000000</td>\n",
       "      <td>0.000000</td>\n",
       "      <td>0.000000</td>\n",
       "      <td>94.000000</td>\n",
       "      <td>126.000000</td>\n",
       "      <td>0.000000</td>\n",
       "      <td>0.000000</td>\n",
       "      <td>71.000000</td>\n",
       "      <td>0.000000</td>\n",
       "      <td>0.000000</td>\n",
       "      <td>0.000000</td>\n",
       "      <td>0.000000</td>\n",
       "      <td>0.000000</td>\n",
       "      <td>0.000000</td>\n",
       "    </tr>\n",
       "    <tr>\n",
       "      <th>25%</th>\n",
       "      <td>48.000000</td>\n",
       "      <td>0.000000</td>\n",
       "      <td>2.000000</td>\n",
       "      <td>120.000000</td>\n",
       "      <td>211.000000</td>\n",
       "      <td>0.000000</td>\n",
       "      <td>0.000000</td>\n",
       "      <td>133.000000</td>\n",
       "      <td>0.000000</td>\n",
       "      <td>0.000000</td>\n",
       "      <td>0.000000</td>\n",
       "      <td>0.000000</td>\n",
       "      <td>0.000000</td>\n",
       "      <td>0.000000</td>\n",
       "    </tr>\n",
       "    <tr>\n",
       "      <th>50%</th>\n",
       "      <td>56.000000</td>\n",
       "      <td>1.000000</td>\n",
       "      <td>2.000000</td>\n",
       "      <td>130.000000</td>\n",
       "      <td>243.000000</td>\n",
       "      <td>0.000000</td>\n",
       "      <td>1.000000</td>\n",
       "      <td>153.000000</td>\n",
       "      <td>0.000000</td>\n",
       "      <td>0.800000</td>\n",
       "      <td>1.000000</td>\n",
       "      <td>0.000000</td>\n",
       "      <td>0.000000</td>\n",
       "      <td>0.000000</td>\n",
       "    </tr>\n",
       "    <tr>\n",
       "      <th>75%</th>\n",
       "      <td>61.000000</td>\n",
       "      <td>1.000000</td>\n",
       "      <td>3.000000</td>\n",
       "      <td>140.000000</td>\n",
       "      <td>276.000000</td>\n",
       "      <td>0.000000</td>\n",
       "      <td>2.000000</td>\n",
       "      <td>166.000000</td>\n",
       "      <td>1.000000</td>\n",
       "      <td>1.600000</td>\n",
       "      <td>1.000000</td>\n",
       "      <td>1.000000</td>\n",
       "      <td>2.000000</td>\n",
       "      <td>1.000000</td>\n",
       "    </tr>\n",
       "    <tr>\n",
       "      <th>max</th>\n",
       "      <td>77.000000</td>\n",
       "      <td>1.000000</td>\n",
       "      <td>3.000000</td>\n",
       "      <td>200.000000</td>\n",
       "      <td>564.000000</td>\n",
       "      <td>1.000000</td>\n",
       "      <td>2.000000</td>\n",
       "      <td>202.000000</td>\n",
       "      <td>1.000000</td>\n",
       "      <td>6.200000</td>\n",
       "      <td>2.000000</td>\n",
       "      <td>3.000000</td>\n",
       "      <td>2.000000</td>\n",
       "      <td>1.000000</td>\n",
       "    </tr>\n",
       "  </tbody>\n",
       "</table>\n",
       "</div>"
      ],
      "text/plain": [
       "             edad        sexo          cp    trestbps        chol         fbs  \\\n",
       "count  297.000000  297.000000  297.000000  297.000000  297.000000  297.000000   \n",
       "mean    54.542088    0.676768    2.158249  131.693603  247.350168    0.144781   \n",
       "std      9.049736    0.468500    0.964859   17.762806   51.997583    0.352474   \n",
       "min     29.000000    0.000000    0.000000   94.000000  126.000000    0.000000   \n",
       "25%     48.000000    0.000000    2.000000  120.000000  211.000000    0.000000   \n",
       "50%     56.000000    1.000000    2.000000  130.000000  243.000000    0.000000   \n",
       "75%     61.000000    1.000000    3.000000  140.000000  276.000000    0.000000   \n",
       "max     77.000000    1.000000    3.000000  200.000000  564.000000    1.000000   \n",
       "\n",
       "          restecg     thalach       exang     oldpeak   pendiente          ca  \\\n",
       "count  297.000000  297.000000  297.000000  297.000000  297.000000  297.000000   \n",
       "mean     0.996633  149.599327    0.326599    1.055556    0.602694    0.676768   \n",
       "std      0.994914   22.941562    0.469761    1.166123    0.618187    0.938965   \n",
       "min      0.000000   71.000000    0.000000    0.000000    0.000000    0.000000   \n",
       "25%      0.000000  133.000000    0.000000    0.000000    0.000000    0.000000   \n",
       "50%      1.000000  153.000000    0.000000    0.800000    1.000000    0.000000   \n",
       "75%      2.000000  166.000000    1.000000    1.600000    1.000000    1.000000   \n",
       "max      2.000000  202.000000    1.000000    6.200000    2.000000    3.000000   \n",
       "\n",
       "             thal   condición  \n",
       "count  297.000000  297.000000  \n",
       "mean     0.835017    0.461279  \n",
       "std      0.956690    0.499340  \n",
       "min      0.000000    0.000000  \n",
       "25%      0.000000    0.000000  \n",
       "50%      0.000000    0.000000  \n",
       "75%      2.000000    1.000000  \n",
       "max      2.000000    1.000000  "
      ]
     },
     "execution_count": 14,
     "metadata": {},
     "output_type": "execute_result"
    }
   ],
   "source": [
    "# Descripción de los datos\n",
    "Data.describe()"
   ]
  },
  {
   "cell_type": "code",
   "execution_count": 27,
   "id": "58e5feb6-26a8-4210-a6da-cb2bfcfa4ff5",
   "metadata": {},
   "outputs": [
    {
     "data": {
      "text/plain": [
       "Text(0.5, 1.0, 'Identificación de Datos Faltantes y Atípicos')"
      ]
     },
     "execution_count": 27,
     "metadata": {},
     "output_type": "execute_result"
    },
    {
     "data": {
      "image/png": "[encoded data removed]",
      "text/plain": [
       "<Figure size 600x300 with 1 Axes>"
      ]
     },
     "metadata": {},
     "output_type": "display_data"
    }
   ],
   "source": [
    "#Identificación de Datos Faltantes y Atípicos\n",
    "\n",
    "plt.figure(figsize=(6, 3))\n",
    "sns.boxplot(x=Data['edad'])\n",
    "plt.title('Identificación de Datos Faltantes y Atípicos', fontsize=10 )"
   ]
  },
  {
   "cell_type": "code",
   "execution_count": 20,
   "id": "39067a06-d748-41d5-8556-782967dbbf65",
   "metadata": {},
   "outputs": [
    {
     "name": "stdout",
     "output_type": "stream",
     "text": [
      "Cantidad de Registros con cero en edad:  0\n",
      "Cantidad de Registros con cero en presión arterial (trestbps):  0\n",
      "Cantidad de Registros con cero en colesterol (chol):  0\n",
      "Cantidad de Registros con cero en frecuencia cardíaca (thalach):  0\n"
     ]
    }
   ],
   "source": [
    "#Revisión de datos faltantes en las columnas que no pueden estar en 0\n",
    "\n",
    "print(\"Cantidad de Registros con cero en edad: \",Data['edad'].isin([0]).sum())\n",
    "print(\"Cantidad de Registros con cero en presión arterial (trestbps): \",Data['trestbps'].isin([0]).sum())\n",
    "print(\"Cantidad de Registros con cero en colesterol (chol): \",Data['chol'].isin([0]).sum())\n",
    "print(\"Cantidad de Registros con cero en frecuencia cardíaca (thalach): \",Data['thalach'].isin([0]).sum())"
   ]
  },
  {
   "cell_type": "code",
   "execution_count": 21,
   "id": "0a3b0d06-dbdc-4a80-b531-a26ae9b9fd4d",
   "metadata": {},
   "outputs": [
    {
     "name": "stdout",
     "output_type": "stream",
     "text": [
      "El total de datos atípicos es 2\n"
     ]
    }
   ],
   "source": [
    "#Conteo de Datos Atípicos para presión arterial (trestbps)\n",
    "\n",
    "nivel_minimo=70\n",
    "nivel_maximo=180\n",
    "Total_Atipicos=((Data['trestbps']<nivel_minimo)|(Data['trestbps']>nivel_maximo)).sum()\n",
    "print(\"El total de datos atípicos es {}\".format(Total_Atipicos))"
   ]
  },
  {
   "cell_type": "code",
   "execution_count": 22,
   "id": "3383e03c-20f3-4fed-b14b-85c3e4913a85",
   "metadata": {},
   "outputs": [],
   "source": [
    "# Filtra Datos Atípicos\n",
    "\n",
    "Data=Data[(Data['trestbps']<nivel_maximo)&(Data['trestbps']>nivel_minimo)]"
   ]
  },
  {
   "cell_type": "code",
   "execution_count": 24,
   "id": "547e3db5-46cd-4aaf-9c7a-5430236128f8",
   "metadata": {},
   "outputs": [
    {
     "name": "stdout",
     "output_type": "stream",
     "text": [
      "El total de datos atípicos es 0\n"
     ]
    }
   ],
   "source": [
    "# Validar si se removieron los datos atípicos\n",
    "\n",
    "Total_Atipicos=((Data['trestbps']<nivel_minimo)|(Data['trestbps']>nivel_maximo)).sum()\n",
    "print(\"El total de datos atípicos es {}\".format(Total_Atipicos))"
   ]
  },
  {
   "cell_type": "markdown",
   "id": "54e297c8-5304-4f71-ae10-6dfd45d72e56",
   "metadata": {},
   "source": [
    "**2.Preprocesar los datos limpiándolos, tratando valores faltantes y transformándolos según sea necesario**"
   ]
  },
  {
   "cell_type": "code",
   "execution_count": 30,
   "id": "ab20ff81-406f-4bde-a78a-efa9f6be1e54",
   "metadata": {},
   "outputs": [
    {
     "name": "stdout",
     "output_type": "stream",
     "text": [
      "<class 'pandas.core.frame.DataFrame'>\n",
      "Index: 292 entries, 0 to 296\n",
      "Data columns (total 14 columns):\n",
      " #   Column     Non-Null Count  Dtype  \n",
      "---  ------     --------------  -----  \n",
      " 0   edad       292 non-null    int64  \n",
      " 1   sexo       292 non-null    int64  \n",
      " 2   cp         292 non-null    int64  \n",
      " 3   trestbps   292 non-null    int64  \n",
      " 4   chol       292 non-null    int64  \n",
      " 5   fbs        292 non-null    int64  \n",
      " 6   restecg    292 non-null    int64  \n",
      " 7   thalach    292 non-null    int64  \n",
      " 8   exang      292 non-null    int64  \n",
      " 9   oldpeak    292 non-null    float64\n",
      " 10  pendiente  292 non-null    int64  \n",
      " 11  ca         292 non-null    int64  \n",
      " 12  thal       292 non-null    int64  \n",
      " 13  condición  292 non-null    int64  \n",
      "dtypes: float64(1), int64(13)\n",
      "memory usage: 34.2 KB\n"
     ]
    }
   ],
   "source": [
    "#Revisión del tipo de datos y datos faltantes\n",
    "\n",
    "Data.info()"
   ]
  },
  {
   "cell_type": "markdown",
   "id": "49ba6091-b018-4e21-b79a-1a713eddf62d",
   "metadata": {},
   "source": [
    "**3.Seleccionar las características más relevantes para entrenar el modelo utilizando selección de características**"
   ]
  },
  {
   "cell_type": "code",
   "execution_count": 31,
   "id": "d6eaeca7-f7a8-4c39-82c8-e6ec43858edc",
   "metadata": {},
   "outputs": [
    {
     "data": {
      "text/plain": [
       "condición\n",
       "0    159\n",
       "1    133\n",
       "Name: count, dtype: int64"
      ]
     },
     "execution_count": 31,
     "metadata": {},
     "output_type": "execute_result"
    }
   ],
   "source": [
    "# Total de personas con presencia de enfermedad cardíaca\n",
    "\n",
    "Data['condición'].value_counts()"
   ]
  },
  {
   "cell_type": "code",
   "execution_count": 32,
   "id": "18ba7836-a78a-439e-8e24-fd00d0c6923f",
   "metadata": {},
   "outputs": [
    {
     "data": {
      "text/html": [
       "<div>\n",
       "<style scoped>\n",
       "    .dataframe tbody tr th:only-of-type {\n",
       "        vertical-align: middle;\n",
       "    }\n",
       "\n",
       "    .dataframe tbody tr th {\n",
       "        vertical-align: top;\n",
       "    }\n",
       "\n",
       "    .dataframe thead th {\n",
       "        text-align: right;\n",
       "    }\n",
       "</style>\n",
       "<table border=\"1\" class=\"dataframe\">\n",
       "  <thead>\n",
       "    <tr style=\"text-align: right;\">\n",
       "      <th></th>\n",
       "      <th>condición</th>\n",
       "    </tr>\n",
       "  </thead>\n",
       "  <tbody>\n",
       "    <tr>\n",
       "      <th>0</th>\n",
       "      <td>0</td>\n",
       "    </tr>\n",
       "    <tr>\n",
       "      <th>1</th>\n",
       "      <td>0</td>\n",
       "    </tr>\n",
       "    <tr>\n",
       "      <th>2</th>\n",
       "      <td>0</td>\n",
       "    </tr>\n",
       "    <tr>\n",
       "      <th>3</th>\n",
       "      <td>1</td>\n",
       "    </tr>\n",
       "    <tr>\n",
       "      <th>4</th>\n",
       "      <td>0</td>\n",
       "    </tr>\n",
       "    <tr>\n",
       "      <th>5</th>\n",
       "      <td>0</td>\n",
       "    </tr>\n",
       "    <tr>\n",
       "      <th>6</th>\n",
       "      <td>0</td>\n",
       "    </tr>\n",
       "    <tr>\n",
       "      <th>7</th>\n",
       "      <td>1</td>\n",
       "    </tr>\n",
       "    <tr>\n",
       "      <th>8</th>\n",
       "      <td>0</td>\n",
       "    </tr>\n",
       "    <tr>\n",
       "      <th>9</th>\n",
       "      <td>0</td>\n",
       "    </tr>\n",
       "  </tbody>\n",
       "</table>\n",
       "</div>"
      ],
      "text/plain": [
       "   condición\n",
       "0          0\n",
       "1          0\n",
       "2          0\n",
       "3          1\n",
       "4          0\n",
       "5          0\n",
       "6          0\n",
       "7          1\n",
       "8          0\n",
       "9          0"
      ]
     },
     "execution_count": 32,
     "metadata": {},
     "output_type": "execute_result"
    }
   ],
   "source": [
    "Data[['condición']].head(10)"
   ]
  },
  {
   "cell_type": "markdown",
   "id": "77eb7830-59e5-4111-ba03-c114d4f9c1f1",
   "metadata": {},
   "source": [
    "**4.Dividir el dataset en Train y Test para evaluar correctamente el modelo**"
   ]
  },
  {
   "cell_type": "code",
   "execution_count": 33,
   "id": "16b7af92-feac-4449-ba26-69695c64ce32",
   "metadata": {},
   "outputs": [],
   "source": [
    "# Porcentaje de datos para entrenamiento (train) = 75% , y para prueba (test) = 25%\n",
    "\n",
    "# Se crean variables M y Y para almacenar la información del entrenamiento\n",
    "\n",
    "M = Data.drop('condición',axis=1) # Se cargan los datos de train sin los datos de la columna condición\n",
    "Y = Data['condición'] # Se cargan los datos de train con los datos de la columna condición\n",
    "\n",
    "M_train, M_test, Y_train, Y_test = train_test_split(M, Y, test_size=0.25, stratify=Y, random_state= 0)"
   ]
  },
  {
   "cell_type": "code",
   "execution_count": 34,
   "id": "278915b2-1be6-42dc-a37d-4db833bd6873",
   "metadata": {},
   "outputs": [
    {
     "name": "stdout",
     "output_type": "stream",
     "text": [
      "     edad  sexo  cp  trestbps  chol  fbs  restecg  thalach  exang  oldpeak  \\\n",
      "268    48     1   3       122   222    0        2      186      0      0.0   \n",
      "53     48     1   1       130   245    0        2      180      0      0.2   \n",
      "208    59     1   3       110   239    0        2      142      1      1.2   \n",
      "74     70     1   2       160   269    0        0      112      1      2.9   \n",
      "290    41     1   3       110   172    0        2      158      0      0.0   \n",
      "..    ...   ...  ..       ...   ...  ...      ...      ...    ...      ...   \n",
      "227    57     1   3       110   201    0        0      126      1      1.5   \n",
      "281    44     1   3       110   197    0        2      177      0      0.0   \n",
      "205    60     0   3       158   305    0        2      161      0      0.0   \n",
      "213    58     1   3       114   318    0        1      140      0      4.4   \n",
      "113    54     0   2       160   201    0        0      163      0      0.0   \n",
      "\n",
      "     pendiente  ca  thal  \n",
      "268          0   0     0  \n",
      "53           1   0     0  \n",
      "208          1   1     2  \n",
      "74           1   1     2  \n",
      "290          0   0     2  \n",
      "..         ...  ..   ...  \n",
      "227          1   0     1  \n",
      "281          0   1     0  \n",
      "205          0   0     0  \n",
      "213          2   3     1  \n",
      "113          0   1     0  \n",
      "\n",
      "[219 rows x 13 columns]\n"
     ]
    }
   ],
   "source": [
    "print (M_train)"
   ]
  },
  {
   "cell_type": "code",
   "execution_count": 35,
   "id": "78ee566d-77bc-459f-b7a1-7db6e9538c74",
   "metadata": {},
   "outputs": [
    {
     "name": "stdout",
     "output_type": "stream",
     "text": [
      "268    0\n",
      "53     0\n",
      "208    1\n",
      "74     1\n",
      "290    1\n",
      "      ..\n",
      "227    0\n",
      "281    1\n",
      "205    1\n",
      "213    1\n",
      "113    0\n",
      "Name: condición, Length: 219, dtype: int64\n"
     ]
    }
   ],
   "source": [
    "print (Y_train)"
   ]
  },
  {
   "cell_type": "markdown",
   "id": "0cf94931-cdfd-4459-a90b-c3f4b4e15454",
   "metadata": {},
   "source": [
    "**5.Entrenar el modelo configurando los diferentes hiperparámetros**"
   ]
  },
  {
   "cell_type": "code",
   "execution_count": 36,
   "id": "58a5b319-692c-42fe-98f7-11c1063a9baf",
   "metadata": {},
   "outputs": [],
   "source": [
    "# Construimos el modelo de regresión logística \n",
    "\n",
    "modelo_regresion = LogisticRegression(solver = \"liblinear\") \n",
    "modelo_regresion.fit (M_train , Y_train)   \n",
    "\n",
    "# Crea el modelo de prediccion\n",
    "Prediccion = modelo_regresion.predict(M_test) "
   ]
  },
  {
   "cell_type": "code",
   "execution_count": 37,
   "id": "f6cab05b-52ea-41f1-8353-2806af165231",
   "metadata": {},
   "outputs": [
    {
     "name": "stdout",
     "output_type": "stream",
     "text": [
      "111    0\n",
      "257    1\n",
      "51     0\n",
      "272    0\n",
      "39     0\n",
      "      ..\n",
      "169    0\n",
      "270    1\n",
      "137    0\n",
      "155    1\n",
      "164    1\n",
      "Name: condición, Length: 73, dtype: int64\n"
     ]
    }
   ],
   "source": [
    "print (Y_test)"
   ]
  },
  {
   "cell_type": "code",
   "execution_count": 38,
   "id": "748e9c86-0bf8-412b-83a8-6fdd72d70b1e",
   "metadata": {},
   "outputs": [
    {
     "name": "stdout",
     "output_type": "stream",
     "text": [
      "[1 0 0 0 0 0 1 1 1 1 0 0 0 0 0 0 1 1 1 0 0 0 1 0 1 1 0 1 1 1 0 0 0 0 0 0 0\n",
      " 0 0 0 1 1 1 1 1 0 1 0 0 0 0 0 1 1 0 1 0 1 1 0 0 1 0 1 0 1 0 0 1 1 0 1 1]\n"
     ]
    }
   ],
   "source": [
    "print (Prediccion)"
   ]
  },
  {
   "cell_type": "markdown",
   "id": "4eed4811-4cd3-4c7b-a0c9-dbf5e965e6c4",
   "metadata": {},
   "source": [
    "**6.Evaluar el desempeño del modelo en el conjunto de Test con métricas como precisión, recall, F1-score, etc**"
   ]
  },
  {
   "cell_type": "code",
   "execution_count": 39,
   "id": "8da34ec6-fdc5-498e-bd13-2d91e5bb8113",
   "metadata": {},
   "outputs": [
    {
     "name": "stdout",
     "output_type": "stream",
     "text": [
      "              precision    recall  f1-score   support\n",
      "\n",
      "           0       0.88      0.90      0.89        40\n",
      "           1       0.88      0.85      0.86        33\n",
      "\n",
      "    accuracy                           0.88        73\n",
      "   macro avg       0.88      0.87      0.88        73\n",
      "weighted avg       0.88      0.88      0.88        73\n",
      "\n"
     ]
    }
   ],
   "source": [
    "# Comprobamos el desempeño del modelo de regresión\n",
    "\n",
    "print(classification_report(Y_test,Prediccion))"
   ]
  },
  {
   "cell_type": "markdown",
   "id": "0ff648d8-d889-42d2-b399-ebb8491f96af",
   "metadata": {},
   "source": [
    "**7.Realizar las diferentes gráficas que permitan visualizar los resultados del modelo.**"
   ]
  },
  {
   "cell_type": "code",
   "execution_count": 40,
   "id": "20994ef4-452c-4799-9a51-75f90353f725",
   "metadata": {},
   "outputs": [
    {
     "data": {
      "text/plain": [
       "<sklearn.metrics._plot.confusion_matrix.ConfusionMatrixDisplay at 0x26c0bf73b90>"
      ]
     },
     "execution_count": 40,
     "metadata": {},
     "output_type": "execute_result"
    },
    {
     "data": {
      "image/png": "[encoded data removed]",
      "text/plain": [
       "<Figure size 640x480 with 2 Axes>"
      ]
     },
     "metadata": {},
     "output_type": "display_data"
    }
   ],
   "source": [
    "# Se procede a crear una matrix de confusión del modelo\n",
    "\n",
    "cm=confusion_matrix(Y_test,Prediccion)\n",
    "disp=metrics.ConfusionMatrixDisplay(confusion_matrix=cm)\n",
    "disp.plot()"
   ]
  },
  {
   "cell_type": "code",
   "execution_count": 41,
   "id": "1cb1c896-e377-49a4-9188-4f11fd24b307",
   "metadata": {},
   "outputs": [
    {
     "data": {
      "image/png": "[encoded data removed]",
      "text/plain": [
       "<Figure size 640x480 with 1 Axes>"
      ]
     },
     "metadata": {},
     "output_type": "display_data"
    }
   ],
   "source": [
    "# Creamos una curva de precisón del modelo\n",
    "\n",
    "from sklearn.metrics import RocCurveDisplay\n",
    "RocCurveDisplay.from_predictions(Y_test, Prediccion)\n",
    "plt.show()"
   ]
  },
  {
   "cell_type": "markdown",
   "id": "517f3f8a-1239-47de-afe2-adf42ad30ee6",
   "metadata": {},
   "source": [
    "**8. Interpretar, analizar y documentar los resultados obtenidos**"
   ]
  },
  {
   "cell_type": "markdown",
   "id": "658307d0-c8b7-46e0-ae3e-68767ee48a16",
   "metadata": {},
   "source": [
    "Del desempeño del modelo se puede describir:\n",
    "\n",
    "Precisión: La precisión para la clase \"condición\" es de 0.88, lo que significa que el 88% de las predicciones positivas realizadas por el modelo para esta clase fueron correctas.\n",
    "\n",
    "Recall: El recall para la clase \"condición\" es de 0.85, lo que significa que el modelo identificó correctamente al 85% de todos los enfermos cardíacos. \n",
    "\n",
    "F1 Score: El F1 Score para la clase \"condición\" es de 0.86, lo que indica un equilibrio entre precisión y recall. El F1 Score es una medida que combina la precisión y el recall en una sola métrica, y un valor de 0.86 indica que el modelo tiene un buen desempeño en ambos aspectos.\n",
    "\n",
    "De la matriz de confusión podemos interpretar:\n",
    "\n",
    "Por medio de la matriz de confusión se logra interpretar que en el recuadro amarillo esta el numero 36, que significa que 36 veces el algoritmo predijo que la persona no tenia la presencia de enfermedad cardíaca y en efecto no presentaba la enfermedad cardíaca.\n",
    "por otra parte donde esta el numero 28 en el recuadro verde, significa que 28 veces el algoritmo predijo que la persona presentaba enfermedad cardíaca y en efecto 28 presentaban enfermedad cardíaca.\n",
    "Donde esta el 5 en el recuadro violeta se predijo que 5 personas no presentaban la enfermedad cardíaca. Pero en realidad era que 5 personas si presentaban la enfermedad cardíaca.\n",
    "Finalmente donde esta el 4 en el recuadro violeta se predijo que 4 personas presentaban la enfermedad cardíaca. Pero en realidad era que 4 personas no presentaban la enfermedad cardíaca.\n",
    "\n",
    "De la curva de precisión del modelo se puede interpretar:\n",
    "\n",
    "El (AUC) es de 0.87, lo que significa que el modelo es capaz de distinguir correctamente entre los casos positivos y negativos con un alto grado de precisión. Sin embargo, es importante tener en cuenta que la precisión del modelo puede variar en función del umbral de clasificación específico que se utilice."
   ]
  }
 ],
 "metadata": {
  "kernelspec": {
   "display_name": "Python 3 (ipykernel)",
   "language": "python",
   "name": "python3"
  },
  "language_info": {
   "codemirror_mode": {
    "name": "ipython",
    "version": 3
   },
   "file_extension": ".py",
   "mimetype": "text/x-python",
   "name": "python",
   "nbconvert_exporter": "python",
   "pygments_lexer": "ipython3",
   "version": "3.11.7"
  }
 },
 "nbformat": 4,
 "nbformat_minor": 5
}
